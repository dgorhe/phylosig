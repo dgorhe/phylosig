{
 "cells": [
  {
   "cell_type": "code",
   "execution_count": 117,
   "metadata": {},
   "outputs": [],
   "source": [
    "# Pagel's lambda for growth rates\n",
    "import numpy as np\n",
    "import pandas as pd\n",
    "\n",
    "import ete3\n",
    "from tqdm import tqdm\n",
    "\n",
    "from src.phylogenetic_signal import PagelsLambda"
   ]
  },
  {
   "cell_type": "code",
   "execution_count": 96,
   "metadata": {},
   "outputs": [],
   "source": [
    "gg_tree_path = \"./greengenes/data/gg_13_5_otus_99_annotated.tree\""
   ]
  },
  {
   "cell_type": "code",
   "execution_count": 107,
   "metadata": {},
   "outputs": [
    {
     "name": "stderr",
     "output_type": "stream",
     "text": [
      "/home/phil/miniconda3/lib/python3.9/site-packages/IPython/core/interactiveshell.py:3398: DtypeWarning: Columns (12,13,14,40,46,55,65,66,67,68,177,294,298,299,300,301,304,305,306,307,308,309,310,318,320,328,330,346,348,350,352,354,359,361,363,366,373,377,381,383,418,419,432,433,434,435,436,438,439,440,441,442,444,445,446,447,448,450,451,452,453,454) have mixed types.Specify dtype option on import or set low_memory=False.\n",
      "  exec(code_obj, self.user_global_ns, self.user_ns)\n"
     ]
    }
   ],
   "source": [
    "# Datasets\n",
    "\n",
    "def strip_df(df):\n",
    "    # Strip whitespace from column names\n",
    "    df.columns = df.columns.str.strip()\n",
    "    \n",
    "    # Values\n",
    "    for col in df.columns:\n",
    "        if df[col].dtype == \"object\":\n",
    "            df[col] = df[col].str.strip()\n",
    "    return df\n",
    "\n",
    "# PTR\n",
    "uhlemann_ptr = None\n",
    "\n",
    "# Abundance\n",
    "uhlemann_abundance = None\n",
    "ibd_abundance = pd.read_csv(\"/home/phil/DATA/ihmp/IBD/ibd_16s_otu_table.csv\", dtype={0: str})\n",
    "ibd_abundance = ibd_abundance.set_index(ibd_abundance.columns[0])\n",
    "moms_abundance = None\n",
    "t2d_abundance = None\n",
    "\n",
    "# Metadata\n",
    "uhlemann_metadata = None\n",
    "ibd_metadata = pd.read_csv(\"/home/phil/DATA/ihmp/IBD/hmp2_ibd_metadata.csv\", index_col=0, skipinitialspace=True)\n",
    "moms_metadata = None\n",
    "t2d_metadata = None\n",
    "\n",
    "# Turn IBD data into abundance changes\n",
    "ibd_metadata = strip_df(ibd_metadata)\n",
    "ibd_metadata = ibd_metadata[ibd_metadata[\"data_type\"] == \"stool_16S\"]\n",
    "ibd_metadata = ibd_metadata[[\"diagnosis\", \"Participant ID\", \"External ID\", \"week_num\"]]\n",
    "ibd_metadata.columns = [\"disease\", \"patient\", \"sample\", \"week\"]\n",
    "\n",
    "ibd_abundance = strip_df(ibd_abundance)\n",
    "ibd_abundance = ibd_abundance.T\n",
    "ibd_abundance[\"sample\"] = [x.split(\"_\")[0] for x in ibd_abundance.index]\n",
    "\n",
    "ibd_merged = pd.merge(ibd_abundance, ibd_metadata)\n",
    "ibd_merged = ibd_merged.drop(\"sample\", axis=1)\n",
    "ibd_merged = ibd_merged.set_index([\"disease\", \"patient\", \"week\"])\n",
    "\n",
    "ibd_diffs = ibd_merged.diff(axis=0).dropna() # Drop first row"
   ]
  },
  {
   "cell_type": "code",
   "execution_count": 112,
   "metadata": {},
   "outputs": [
    {
     "data": {
      "text/plain": [
       "(97, 1370)"
      ]
     },
     "execution_count": 112,
     "metadata": {},
     "output_type": "execute_result"
    }
   ],
   "source": [
    "ibd_diffs.shape"
   ]
  },
  {
   "cell_type": "code",
   "execution_count": 125,
   "metadata": {},
   "outputs": [
    {
     "name": "stdout",
     "output_type": "stream",
     "text": [
      "1.0\n"
     ]
    },
    {
     "name": "stderr",
     "output_type": "stream",
     "text": [
      "100%|██████████| 97/97 [19:20<00:00, 11.96s/it]\n"
     ]
    }
   ],
   "source": [
    "# Get tree\n",
    "tree = ete3.Tree(gg_tree_path, format=1, quoted_node_names=True)\n",
    "\n",
    "# How much overlap is there?\n",
    "print(\n",
    "    len(set(tree.get_leaf_names()) & set(ibd_diffs.columns))\n",
    "    / len(set(ibd_diffs.columns))\n",
    ")  # Hope for 1.0\n",
    "\n",
    "# Get tree and dataframe in agreement\n",
    "tree.prune(list(ibd_diffs.columns))  # Prune tree to OTUs in dataset\n",
    "ibd_diffs.reindex(\n",
    "    columns=tree.get_leaf_names()\n",
    ")  # Reindex dataframe to OTUs in tree\n",
    "\n",
    "# Get lambda values per-disease\n",
    "pls = {\"CD\": [], \"UC\": [], \"nonIBD\": []}\n",
    "pl = PagelsLambda(tree)\n",
    "for i in tqdm(range(len(ibd_diffs))):\n",
    "    row = ibd_diffs.iloc[i]\n",
    "    x = row.values.reshape(-1, 1) # TODO: support DFs in PagelsLambda\n",
    "    pl.fit(x)\n",
    "    pls[row.name[0]].append(pl.lam) # Separate by disease\n"
   ]
  },
  {
   "cell_type": "code",
   "execution_count": 127,
   "metadata": {},
   "outputs": [],
   "source": [
    "import pickle\n",
    "\n",
    "with open(\"results/03_empirical.pkl\", \"wb\") as f:\n",
    "    pickle.dump(pls, f)"
   ]
  },
  {
   "cell_type": "code",
   "execution_count": 141,
   "metadata": {},
   "outputs": [
    {
     "data": {
      "text/plain": [
       "([<matplotlib.axis.XTick at 0x7f65bd4ce400>,\n",
       "  <matplotlib.axis.XTick at 0x7f65bd4cefd0>,\n",
       "  <matplotlib.axis.XTick at 0x7f65b2857f70>],\n",
       " [Text(1, 0, 'CD (N=76)'),\n",
       "  Text(2, 0, 'UC (N=20)'),\n",
       "  Text(3, 0, 'nonIBD (N=1)')])"
      ]
     },
     "execution_count": 141,
     "metadata": {},
     "output_type": "execute_result"
    },
    {
     "data": {
      "image/png": "[encoded data removed]",
      "text/plain": [
       "<Figure size 640x480 with 1 Axes>"
      ]
     },
     "metadata": {},
     "output_type": "display_data"
    }
   ],
   "source": [
    "# Violin plot\n",
    "\n",
    "import matplotlib.pyplot as plt\n",
    "\n",
    "ks, vs = zip(*pls.items())\n",
    "plt.violinplot(list(vs), showmedians=True)\n",
    "ns = [len(item) for item in vs]\n",
    "\n",
    "plt.xticks(range(1, len(k) + 1), [f\"{k} (N={n})\" for k, n in zip(ks, ns)])"
   ]
  },
  {
   "cell_type": "code",
   "execution_count": null,
   "metadata": {},
   "outputs": [],
   "source": []
  }
 ],
 "metadata": {
  "kernelspec": {
   "display_name": "base",
   "language": "python",
   "name": "python3"
  },
  "language_info": {
   "codemirror_mode": {
    "name": "ipython",
    "version": 3
   },
   "file_extension": ".py",
   "mimetype": "text/x-python",
   "name": "python",
   "nbconvert_exporter": "python",
   "pygments_lexer": "ipython3",
   "version": "3.9.5"
  },
  "orig_nbformat": 4,
  "vscode": {
   "interpreter": {
    "hash": "e4dc294415b14ea4c0d4d07894c031d87e01c25f832e475b95612eada6e667d4"
   }
  }
 },
 "nbformat": 4,
 "nbformat_minor": 2
}
