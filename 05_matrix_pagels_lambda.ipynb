{
 "cells": [
  {
   "cell_type": "code",
   "execution_count": 1,
   "metadata": {},
   "outputs": [],
   "source": [
    "# Developing a matrix-based approach to the Pagel's lambda test\n",
    "%load_ext autoreload\n",
    "%autoreload 2\n",
    "\n",
    "import numpy as np\n",
    "import pandas as pd\n",
    "import matplotlib.pyplot as plt\n",
    "\n",
    "from src.phylogenetic_signal import PagelsLambda\n",
    "from src.ihmp import get_diffs, pagels_dataframe"
   ]
  },
  {
   "cell_type": "code",
   "execution_count": 2,
   "metadata": {},
   "outputs": [
    {
     "data": {
      "text/html": [
       "<div>\n",
       "<style scoped>\n",
       "    .dataframe tbody tr th:only-of-type {\n",
       "        vertical-align: middle;\n",
       "    }\n",
       "\n",
       "    .dataframe tbody tr th {\n",
       "        vertical-align: top;\n",
       "    }\n",
       "\n",
       "    .dataframe thead th {\n",
       "        text-align: right;\n",
       "    }\n",
       "</style>\n",
       "<table border=\"1\" class=\"dataframe\">\n",
       "  <thead>\n",
       "    <tr style=\"text-align: right;\">\n",
       "      <th></th>\n",
       "      <th></th>\n",
       "      <th></th>\n",
       "      <th>589277</th>\n",
       "      <th>589282</th>\n",
       "      <th>589071</th>\n",
       "      <th>851865</th>\n",
       "      <th>583117</th>\n",
       "      <th>568118</th>\n",
       "      <th>1111294</th>\n",
       "      <th>535375</th>\n",
       "      <th>370287</th>\n",
       "      <th>571178</th>\n",
       "    </tr>\n",
       "    <tr>\n",
       "      <th>site</th>\n",
       "      <th>patient</th>\n",
       "      <th>visit</th>\n",
       "      <th></th>\n",
       "      <th></th>\n",
       "      <th></th>\n",
       "      <th></th>\n",
       "      <th></th>\n",
       "      <th></th>\n",
       "      <th></th>\n",
       "      <th></th>\n",
       "      <th></th>\n",
       "      <th></th>\n",
       "    </tr>\n",
       "  </thead>\n",
       "  <tbody>\n",
       "    <tr>\n",
       "      <th rowspan=\"11\" valign=\"top\">feces</th>\n",
       "      <th rowspan=\"3\" valign=\"top\">3002</th>\n",
       "      <th>6</th>\n",
       "      <td>-0.056920</td>\n",
       "      <td>-6.712384</td>\n",
       "      <td>1.365257</td>\n",
       "      <td>-2.937793</td>\n",
       "      <td>0.703366</td>\n",
       "      <td>1.233550</td>\n",
       "      <td>-2.230747</td>\n",
       "      <td>0.608226</td>\n",
       "      <td>-1.885603</td>\n",
       "      <td>-0.208031</td>\n",
       "    </tr>\n",
       "    <tr>\n",
       "      <th>8</th>\n",
       "      <td>0.150511</td>\n",
       "      <td>7.954029</td>\n",
       "      <td>0.507177</td>\n",
       "      <td>3.734545</td>\n",
       "      <td>-0.224880</td>\n",
       "      <td>-14.576182</td>\n",
       "      <td>-18.181474</td>\n",
       "      <td>0.344970</td>\n",
       "      <td>-13.973186</td>\n",
       "      <td>-15.904207</td>\n",
       "    </tr>\n",
       "    <tr>\n",
       "      <th>9</th>\n",
       "      <td>0.025742</td>\n",
       "      <td>-7.033436</td>\n",
       "      <td>-3.030668</td>\n",
       "      <td>-4.468496</td>\n",
       "      <td>0.028617</td>\n",
       "      <td>13.541401</td>\n",
       "      <td>18.831685</td>\n",
       "      <td>-0.412801</td>\n",
       "      <td>13.135937</td>\n",
       "      <td>14.091447</td>\n",
       "    </tr>\n",
       "    <tr>\n",
       "      <th rowspan=\"2\" valign=\"top\">3003</th>\n",
       "      <th>5</th>\n",
       "      <td>-0.810930</td>\n",
       "      <td>0.000000</td>\n",
       "      <td>0.000000</td>\n",
       "      <td>0.000000</td>\n",
       "      <td>0.000000</td>\n",
       "      <td>0.000000</td>\n",
       "      <td>0.000000</td>\n",
       "      <td>21.521774</td>\n",
       "      <td>0.000000</td>\n",
       "      <td>0.000000</td>\n",
       "    </tr>\n",
       "    <tr>\n",
       "      <th>6</th>\n",
       "      <td>-1.064244</td>\n",
       "      <td>20.588497</td>\n",
       "      <td>20.780836</td>\n",
       "      <td>21.224825</td>\n",
       "      <td>19.037478</td>\n",
       "      <td>12.972068</td>\n",
       "      <td>14.383053</td>\n",
       "      <td>-0.987078</td>\n",
       "      <td>18.848681</td>\n",
       "      <td>13.665214</td>\n",
       "    </tr>\n",
       "    <tr>\n",
       "      <th>...</th>\n",
       "      <th>...</th>\n",
       "      <td>...</td>\n",
       "      <td>...</td>\n",
       "      <td>...</td>\n",
       "      <td>...</td>\n",
       "      <td>...</td>\n",
       "      <td>...</td>\n",
       "      <td>...</td>\n",
       "      <td>...</td>\n",
       "      <td>...</td>\n",
       "      <td>...</td>\n",
       "    </tr>\n",
       "    <tr>\n",
       "      <th>2021</th>\n",
       "      <th>11</th>\n",
       "      <td>-0.609224</td>\n",
       "      <td>-0.483634</td>\n",
       "      <td>19.597311</td>\n",
       "      <td>20.342645</td>\n",
       "      <td>-1.966021</td>\n",
       "      <td>13.443480</td>\n",
       "      <td>14.083517</td>\n",
       "      <td>0.023898</td>\n",
       "      <td>18.417355</td>\n",
       "      <td>14.776664</td>\n",
       "    </tr>\n",
       "    <tr>\n",
       "      <th>2026</th>\n",
       "      <th>4</th>\n",
       "      <td>-0.368932</td>\n",
       "      <td>0.072582</td>\n",
       "      <td>-3.990053</td>\n",
       "      <td>0.223622</td>\n",
       "      <td>-0.560287</td>\n",
       "      <td>0.912596</td>\n",
       "      <td>1.321320</td>\n",
       "      <td>-2.468158</td>\n",
       "      <td>-0.308956</td>\n",
       "      <td>-4.590431</td>\n",
       "    </tr>\n",
       "    <tr>\n",
       "      <th>2027</th>\n",
       "      <th>4</th>\n",
       "      <td>0.000000</td>\n",
       "      <td>0.000000</td>\n",
       "      <td>0.000000</td>\n",
       "      <td>21.079941</td>\n",
       "      <td>0.000000</td>\n",
       "      <td>-1.252763</td>\n",
       "      <td>0.000000</td>\n",
       "      <td>0.000000</td>\n",
       "      <td>0.000000</td>\n",
       "      <td>0.000000</td>\n",
       "    </tr>\n",
       "    <tr>\n",
       "      <th rowspan=\"2\" valign=\"top\">2014</th>\n",
       "      <th>9</th>\n",
       "      <td>-4.543204</td>\n",
       "      <td>-6.209652</td>\n",
       "      <td>-4.471137</td>\n",
       "      <td>-5.842596</td>\n",
       "      <td>14.426603</td>\n",
       "      <td>14.847106</td>\n",
       "      <td>18.490956</td>\n",
       "      <td>15.360912</td>\n",
       "      <td>14.471055</td>\n",
       "      <td>0.856289</td>\n",
       "    </tr>\n",
       "    <tr>\n",
       "      <th>11</th>\n",
       "      <td>4.511263</td>\n",
       "      <td>3.869339</td>\n",
       "      <td>5.504259</td>\n",
       "      <td>1.391293</td>\n",
       "      <td>5.302363</td>\n",
       "      <td>0.832251</td>\n",
       "      <td>-2.118452</td>\n",
       "      <td>-0.151558</td>\n",
       "      <td>3.650649</td>\n",
       "      <td>-3.140187</td>\n",
       "    </tr>\n",
       "  </tbody>\n",
       "</table>\n",
       "<p>69 rows × 10 columns</p>\n",
       "</div>"
      ],
      "text/plain": [
       "                       589277     589282     589071     851865     583117  \\\n",
       "site  patient visit                                                         \n",
       "feces 3002    6     -0.056920  -6.712384   1.365257  -2.937793   0.703366   \n",
       "              8      0.150511   7.954029   0.507177   3.734545  -0.224880   \n",
       "              9      0.025742  -7.033436  -3.030668  -4.468496   0.028617   \n",
       "      3003    5     -0.810930   0.000000   0.000000   0.000000   0.000000   \n",
       "              6     -1.064244  20.588497  20.780836  21.224825  19.037478   \n",
       "...                       ...        ...        ...        ...        ...   \n",
       "      2021    11    -0.609224  -0.483634  19.597311  20.342645  -1.966021   \n",
       "      2026    4     -0.368932   0.072582  -3.990053   0.223622  -0.560287   \n",
       "      2027    4      0.000000   0.000000   0.000000  21.079941   0.000000   \n",
       "      2014    9     -4.543204  -6.209652  -4.471137  -5.842596  14.426603   \n",
       "              11     4.511263   3.869339   5.504259   1.391293   5.302363   \n",
       "\n",
       "                        568118    1111294     535375     370287     571178  \n",
       "site  patient visit                                                         \n",
       "feces 3002    6       1.233550  -2.230747   0.608226  -1.885603  -0.208031  \n",
       "              8     -14.576182 -18.181474   0.344970 -13.973186 -15.904207  \n",
       "              9      13.541401  18.831685  -0.412801  13.135937  14.091447  \n",
       "      3003    5       0.000000   0.000000  21.521774   0.000000   0.000000  \n",
       "              6      12.972068  14.383053  -0.987078  18.848681  13.665214  \n",
       "...                        ...        ...        ...        ...        ...  \n",
       "      2021    11     13.443480  14.083517   0.023898  18.417355  14.776664  \n",
       "      2026    4       0.912596   1.321320  -2.468158  -0.308956  -4.590431  \n",
       "      2027    4      -1.252763   0.000000   0.000000   0.000000   0.000000  \n",
       "      2014    9      14.847106  18.490956  15.360912  14.471055   0.856289  \n",
       "              11      0.832251  -2.118452  -0.151558   3.650649  -3.140187  \n",
       "\n",
       "[69 rows x 10 columns]"
      ]
     },
     "execution_count": 2,
     "metadata": {},
     "output_type": "execute_result"
    }
   ],
   "source": [
    "diffs = get_diffs(\"ibd\", top_n=10)\n",
    "diffs"
   ]
  },
  {
   "cell_type": "code",
   "execution_count": 3,
   "metadata": {},
   "outputs": [
    {
     "name": "stderr",
     "output_type": "stream",
     "text": [
      "100%|██████████| 69/69 [00:00<00:00, 152.91it/s]"
     ]
    },
    {
     "name": "stdout",
     "output_type": "stream",
     "text": [
      "site   patient  visit\n",
      "feces  3002     6        0.000000\n",
      "                8        0.866957\n",
      "                9        0.870424\n",
      "       3003     5        0.000000\n",
      "                6        0.000000\n",
      "Name: lambda, dtype: float64\n",
      "(69,)\n"
     ]
    },
    {
     "name": "stderr",
     "output_type": "stream",
     "text": [
      "\n"
     ]
    }
   ],
   "source": [
    "lams, tree = pagels_dataframe(diffs, tree_path=\"./greengenes/data/gg_13_5_otus_99_annotated.tree\")\n",
    "print(lams.head())\n",
    "print(lams.values.shape)"
   ]
  },
  {
   "cell_type": "code",
   "execution_count": 5,
   "metadata": {},
   "outputs": [
    {
     "name": "stdout",
     "output_type": "stream",
     "text": [
      "-0.0012623491281545326 1942.995182543964 -29.80356493632882\n",
      "-0.039912876512239494 1942.974136785006 -29.803510778003744\n"
     ]
    }
   ],
   "source": [
    "# Now we modify PagelsLambda to take matrices of values, and go with that\n",
    "\n",
    "from src.phylogenetic_signal import PagelsLambdaMulti, PagelsLambda\n",
    "\n",
    "plm = PagelsLambdaMulti(tree)\n",
    "pl = PagelsLambda(tree)\n",
    "\n",
    "x = diffs.values.reshape(69, 10, 1)\n",
    "z0s, sigma2s, lls = plm.mle(x, plm.C)\n",
    "\n",
    "print(z0s[0].item(), sigma2s[0].item(), lls[0].item())\n",
    "\n",
    "z0, sigma2, ll = pl.mle(x[0, :, :], pl.C)\n",
    "print(z0, sigma2, ll)"
   ]
  },
  {
   "cell_type": "code",
   "execution_count": null,
   "metadata": {},
   "outputs": [
    {
     "name": "stdout",
     "output_type": "stream",
     "text": [
      "ndim 2\n",
      "Reshaped X to (69, 100, 1)\n",
      "(69, 100, 1)\n",
      "(100,)\n"
     ]
    }
   ],
   "source": [
    "# This is slow as hell so maybe it wasn't worth doing this\n",
    "\n",
    "plm.fit(diffs.values)"
   ]
  },
  {
   "cell_type": "code",
   "execution_count": null,
   "metadata": {},
   "outputs": [
    {
     "data": {
      "text/plain": [
       "0.07882134444992613"
      ]
     },
     "execution_count": 10,
     "metadata": {},
     "output_type": "execute_result"
    }
   ],
   "source": [
    "plm.lam"
   ]
  },
  {
   "cell_type": "code",
   "execution_count": null,
   "metadata": {},
   "outputs": [
    {
     "name": "stderr",
     "output_type": "stream",
     "text": [
      "[autoreload of src.phylogenetic_signal failed: Traceback (most recent call last):\n",
      "  File \"/home/phil/miniconda3/lib/python3.9/site-packages/IPython/extensions/autoreload.py\", line 257, in check\n",
      "    superreload(m, reload, self.old_objects)\n",
      "  File \"/home/phil/miniconda3/lib/python3.9/site-packages/IPython/extensions/autoreload.py\", line 480, in superreload\n",
      "    update_generic(old_obj, new_obj)\n",
      "  File \"/home/phil/miniconda3/lib/python3.9/site-packages/IPython/extensions/autoreload.py\", line 377, in update_generic\n",
      "    update(a, b)\n",
      "  File \"/home/phil/miniconda3/lib/python3.9/site-packages/IPython/extensions/autoreload.py\", line 329, in update_class\n",
      "    if update_generic(old_obj, new_obj):\n",
      "  File \"/home/phil/miniconda3/lib/python3.9/site-packages/IPython/extensions/autoreload.py\", line 377, in update_generic\n",
      "    update(a, b)\n",
      "  File \"/home/phil/miniconda3/lib/python3.9/site-packages/IPython/extensions/autoreload.py\", line 289, in update_function\n",
      "    setattr(old, name, getattr(new, name))\n",
      "ValueError: rescale_cov() requires a code object with 1 free vars, not 0\n",
      "]\n"
     ]
    },
    {
     "ename": "TypeError",
     "evalue": "rescale_cov() missing 1 required positional argument: 'self'",
     "output_type": "error",
     "traceback": [
      "\u001b[0;31m---------------------------------------------------------------------------\u001b[0m",
      "\u001b[0;31mTypeError\u001b[0m                                 Traceback (most recent call last)",
      "\u001b[1;32m/home/phil/phylosig/05_matrix_pagels_lambda.ipynb Cell 7\u001b[0m in \u001b[0;36m<cell line: 1>\u001b[0;34m()\u001b[0m\n\u001b[0;32m----> <a href='vscode-notebook-cell:/home/phil/phylosig/05_matrix_pagels_lambda.ipynb#X16sZmlsZQ%3D%3D?line=0'>1</a>\u001b[0m plm\u001b[39m.\u001b[39;49mrescale_cov(lam\u001b[39m=\u001b[39;49m\u001b[39m0.1\u001b[39;49m)\n",
      "\u001b[0;31mTypeError\u001b[0m: rescale_cov() missing 1 required positional argument: 'self'"
     ]
    }
   ],
   "source": [
    "plm.rescale_cov(lam=0.1)"
   ]
  },
  {
   "cell_type": "code",
   "execution_count": null,
   "metadata": {},
   "outputs": [
    {
     "data": {
      "text/plain": [
       "nan"
      ]
     },
     "execution_count": 92,
     "metadata": {},
     "output_type": "execute_result"
    }
   ],
   "source": [
    "plm.lam"
   ]
  },
  {
   "cell_type": "code",
   "execution_count": null,
   "metadata": {},
   "outputs": [
    {
     "data": {
      "text/plain": [
       "(6900,)"
      ]
     },
     "execution_count": 64,
     "metadata": {},
     "output_type": "execute_result"
    }
   ],
   "source": [
    "x = diffs.values\n",
    "x = x.reshape(-1)\n",
    "x.shape"
   ]
  },
  {
   "cell_type": "code",
   "execution_count": null,
   "metadata": {},
   "outputs": [
    {
     "name": "stdout",
     "output_type": "stream",
     "text": [
      "[0.06562551836789537, -13.719899331138247, 9.821876058480438, 3.053426899433133e-07]\n",
      "[array([[1851.53769498]]), array([[3526.91389165]]), array([[4213.27385025]]), array([[1484.46178027]])]\n",
      "[-320.07212336440216, -352.2924611936505, -361.1832984548204, -309.02391279958687]\n"
     ]
    }
   ],
   "source": [
    "pl = PagelsLambda(tree)\n",
    "\n",
    "z0s_single = []\n",
    "sigma2s_single = []\n",
    "lls_single = []\n",
    "for i in range(diffs.shape[0]):\n",
    "    vals = diffs.iloc[i]\n",
    "    z0, sigma2, ll = pl.mle(vals.values.reshape(100, 1), pl.C)\n",
    "    z0s_single.append(z0)\n",
    "    sigma2s_single.append(sigma2)\n",
    "    lls_single.append(ll)\n",
    "\n",
    "print(z0s_single[:4])\n",
    "print(sigma2s_single[:4])\n",
    "print(lls_single[:4])"
   ]
  },
  {
   "cell_type": "code",
   "execution_count": null,
   "metadata": {},
   "outputs": [
    {
     "data": {
      "text/plain": [
       "array([3.00229686e+01, 1.31223008e+06, 6.72507352e+05, 6.49954855e-10,\n",
       "       3.56654716e+05, 5.86479269e+04, 1.74083955e+05, 2.27649979e+04,\n",
       "       3.68966367e+04, 1.38526888e+06, 9.69386813e-03, 1.46517375e+06,\n",
       "       4.90706588e+01, 4.87229901e+03, 9.11692187e+04, 1.49479045e+06,\n",
       "       3.85243694e-06, 3.27067470e+05, 5.15835511e+03, 9.69150989e+05,\n",
       "       8.54913923e+02, 9.15911341e+05, 9.33362248e+05, 1.03372746e+06,\n",
       "       1.55718819e+06, 1.98523623e+05, 1.02882646e+06, 1.51719739e+04,\n",
       "       5.35436918e+02, 1.43772559e-02, 1.61179114e+06, 1.60887649e+06,\n",
       "       7.82640744e+03, 5.75472425e+04, 6.39453227e+05, 3.55361693e+05,\n",
       "       2.29403326e-07, 7.02080466e+02, 6.92564431e+01, 4.12465683e+03,\n",
       "       1.48893006e+06, 2.47239795e+03, 7.44757903e+03, 1.01354648e+03,\n",
       "       1.27121582e+06, 1.06320363e+06, 1.81914806e+06, 1.57135415e+06,\n",
       "       7.13094783e+02, 1.23239155e+06, 7.36440426e-07, 2.85025240e+02,\n",
       "       1.38340997e+03, 1.66445270e+02, 2.61054300e-01, 9.94944590e+05,\n",
       "       5.14038816e+04, 1.49891886e+06, 7.72094389e-02, 2.56626182e+05,\n",
       "       1.72939108e+06, 9.69141150e+03, 1.55227866e+04, 1.32202510e+06,\n",
       "       1.50866744e+06, 1.65774028e+03, 4.62992924e+00, 1.41604487e+06,\n",
       "       1.93320388e+05])"
      ]
     },
     "execution_count": 50,
     "metadata": {},
     "output_type": "execute_result"
    }
   ],
   "source": [
    "np.array(z0s_single) / z0s"
   ]
  },
  {
   "cell_type": "code",
   "execution_count": null,
   "metadata": {},
   "outputs": [],
   "source": []
  }
 ],
 "metadata": {
  "kernelspec": {
   "display_name": "base",
   "language": "python",
   "name": "python3"
  },
  "language_info": {
   "codemirror_mode": {
    "name": "ipython",
    "version": 3
   },
   "file_extension": ".py",
   "mimetype": "text/x-python",
   "name": "python",
   "nbconvert_exporter": "python",
   "pygments_lexer": "ipython3",
   "version": "3.9.5"
  },
  "orig_nbformat": 4,
  "vscode": {
   "interpreter": {
    "hash": "e4dc294415b14ea4c0d4d07894c031d87e01c25f832e475b95612eada6e667d4"
   }
  }
 },
 "nbformat": 4,
 "nbformat_minor": 2
}
