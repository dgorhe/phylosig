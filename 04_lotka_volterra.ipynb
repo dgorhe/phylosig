{
 "cells": [
  {
   "cell_type": "code",
   "execution_count": 13,
   "metadata": {},
   "outputs": [
    {
     "name": "stdout",
     "output_type": "stream",
     "text": [
      "The autoreload extension is already loaded. To reload it, use:\n",
      "  %reload_ext autoreload\n"
     ]
    }
   ],
   "source": [
    "# I run this in my misdeed environment\n",
    "\n",
    "%load_ext autoreload\n",
    "%autoreload 2\n",
    "\n",
    "# !pip install misdeed\n",
    "from misdeed.OmicsGenerator import OmicsGenerator\n",
    "from src.phylogenetic_signal import PagelsLambda\n",
    "import ete3"
   ]
  },
  {
   "cell_type": "code",
   "execution_count": 12,
   "metadata": {},
   "outputs": [
    {
     "name": "stdout",
     "output_type": "stream",
     "text": [
      "Node 'n0' initialized\n",
      "Interaction 'n0->n0' added\n",
      "set m:(n0)->(n0):   0:100    0:100\n",
      "Added x0 vector to node n0\n",
      "Added growth rates to node n0\n",
      "Initialized\n"
     ]
    },
    {
     "name": "stderr",
     "output_type": "stream",
     "text": [
      "100%|██████████| 10/10 [00:03<00:00,  3.11it/s]\n"
     ]
    }
   ],
   "source": [
    "gen = OmicsGenerator(\n",
    "    node_sizes = [100],\n",
    "    init_full=True,\n",
    "    time_points=200,\n",
    ")\n",
    "\n",
    "z, x, y = gen.generate_multiple(10)"
   ]
  },
  {
   "cell_type": "code",
   "execution_count": 10,
   "metadata": {},
   "outputs": [
    {
     "data": {
      "text/plain": [
       "(100, 100)"
      ]
     },
     "execution_count": 10,
     "metadata": {},
     "output_type": "execute_result"
    }
   ],
   "source": [
    "pl = PagelsLambda(tree=\n",
    "\n",
    "for patient in y:\n",
    "    random_idx = np.random.randint(0, len(patient))\n",
    "    sample = patient[:, random_idx]\n",
    "\n",
    "    "
   ]
  },
  {
   "cell_type": "code",
   "execution_count": null,
   "metadata": {},
   "outputs": [],
   "source": []
  }
 ],
 "metadata": {
  "kernelspec": {
   "display_name": "misdeed",
   "language": "python",
   "name": "python3"
  },
  "language_info": {
   "codemirror_mode": {
    "name": "ipython",
    "version": 3
   },
   "file_extension": ".py",
   "mimetype": "text/x-python",
   "name": "python",
   "nbconvert_exporter": "python",
   "pygments_lexer": "ipython3",
   "version": "3.6.13"
  },
  "orig_nbformat": 4,
  "vscode": {
   "interpreter": {
    "hash": "b91c18ca9efc213147bbeef72164a674c603bb3069f87cc44a819f4d83ea37af"
   }
  }
 },
 "nbformat": 4,
 "nbformat_minor": 2
}
