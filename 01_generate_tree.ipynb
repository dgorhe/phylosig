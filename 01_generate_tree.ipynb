{
 "cells": [
  {
   "cell_type": "code",
   "execution_count": 19,
   "metadata": {},
   "outputs": [
    {
     "name": "stdout",
     "output_type": "stream",
     "text": [
      "Requirement already satisfied: pandas in /Users/phil/anaconda3/lib/python3.9/site-packages (1.4.4)\n",
      "Requirement already satisfied: python-dateutil>=2.8.1 in /Users/phil/anaconda3/lib/python3.9/site-packages (from pandas) (2.8.2)\n",
      "Requirement already satisfied: pytz>=2020.1 in /Users/phil/anaconda3/lib/python3.9/site-packages (from pandas) (2022.1)\n",
      "Requirement already satisfied: numpy>=1.20.0 in /Users/phil/anaconda3/lib/python3.9/site-packages (from pandas) (1.21.5)\n",
      "Requirement already satisfied: six>=1.5 in /Users/phil/anaconda3/lib/python3.9/site-packages (from python-dateutil>=2.8.1->pandas) (1.16.0)\n",
      "Requirement already satisfied: ete3 in /Users/phil/anaconda3/lib/python3.9/site-packages (3.1.2)\n",
      "Requirement already satisfied: biopython in /Users/phil/anaconda3/lib/python3.9/site-packages (1.81)\n",
      "Requirement already satisfied: numpy in /Users/phil/anaconda3/lib/python3.9/site-packages (from biopython) (1.21.5)\n",
      "Requirement already satisfied: Levenshtein in /Users/phil/anaconda3/lib/python3.9/site-packages (0.20.9)\n",
      "Requirement already satisfied: rapidfuzz<3.0.0,>=2.3.0 in /Users/phil/anaconda3/lib/python3.9/site-packages (from Levenshtein) (2.13.7)\n"
     ]
    }
   ],
   "source": [
    "# Some dependencies to verify\n",
    "\n",
    "! pip install pandas\n",
    "! pip install ete3\n",
    "! pip install biopython\n",
    "! pip install Levenshtein"
   ]
  },
  {
   "cell_type": "code",
   "execution_count": 20,
   "metadata": {},
   "outputs": [],
   "source": [
    "# Package imports\n",
    "\n",
    "import pandas as pd\n",
    "import numpy as np\n",
    "\n",
    "import ete3\n",
    "import Levenshtein\n",
    "from Bio import SeqIO"
   ]
  },
  {
   "cell_type": "code",
   "execution_count": 21,
   "metadata": {},
   "outputs": [],
   "source": [
    "# Global variables \n",
    "\n",
    "N_SEQS = 30"
   ]
  },
  {
   "cell_type": "code",
   "execution_count": 22,
   "metadata": {},
   "outputs": [
    {
     "name": "stderr",
     "output_type": "stream",
     "text": [
      "bash: line 28: [: missing `]'\n"
     ]
    }
   ],
   "source": [
    "%%bash\n",
    "\n",
    "# Make output, data directories if they don't exist\n",
    "mkdir -p output\n",
    "mkdir -p data\n",
    "\n",
    "# Download data if it doesn't exist\n",
    "if [ ! -f \"data/gg_13_5.fasta\" ]; then\n",
    "    wget https://gg-sg-web.s3-us-west-2.amazonaws.com/downloads/greengenes_database/gg_13_5/gg_13_5.fasta.gz\n",
    "    gunzip gg_13_5.fasta.gz\n",
    "    mv gg_13_5.fasta data/\n",
    "    rm gg_13_5.fasta.gz\n",
    "fi\n",
    "\n",
    "if [ ! -f \"data/gg_13_5_otus_99_annotated.tree\" ]; then\n",
    "    wget https://gg-sg-web.s3-us-west-2.amazonaws.com/downloads/greengenes_database/gg_13_5/gg_13_5_otus_99_annotated.tree.gz\n",
    "    gunzip gg_13_5_otus_99_annotated.tree.gz\n",
    "    mv gg_13_5_otus_99_annotated.tree data/\n",
    "    rm gg_13_5_otus_99_annotated.tree.gz\n",
    "\n",
    "    # Remove the first 4 lines of the tree file - only if first line is '[':\n",
    "    if [ \"$(head -n 1 data/gg_13_5_otus_99_annotated.tree)\" = \"[\" ]; then\n",
    "        tail -n +5 data/gg_13_5_otus_99_annotated.tree > data/gg_13_5_otus_99_annotated.tree.tmp\n",
    "        mv data/gg_13_5_otus_99_annotated.tree.tmp data/gg_13_5_otus_99_annotated.tree\n",
    "    fi\n",
    "fi\n",
    "\n",
    "# New: get taxonomy\n",
    "if [ ! -f \"data/gg_13_5_taxonomy.txt\"]; then\n",
    "    wget https://gg-sg-web.s3-us-west-2.amazonaws.com/downloads/greengenes_database/gg_13_5/gg_13_5_taxonomy.txt.gz\n",
    "    gunzip gg_13_5_taxonomy.txt.gz\n",
    "    mv gg_13_5_taxonomy.txt data/\n",
    "    rm gg_13_5_taxonomy.txt.gz\n",
    "fi\n"
   ]
  },
  {
   "cell_type": "code",
   "execution_count": 23,
   "metadata": {},
   "outputs": [
    {
     "name": "stdout",
     "output_type": "stream",
     "text": [
      "Number of leaf nodes:\t203452\n",
      "Total number of nodes:\t406903\n",
      "Rooted:\tYes\n",
      "Most distant node:\t3882796\n",
      "Max. distance:\t1.394070\n"
     ]
    }
   ],
   "source": [
    "# Import tree - I had to remove the first 4 lines of the tree file to get it to work\n",
    "\n",
    "tree = ete3.Tree(\"data/gg_13_5_otus_99_annotated.tree\", format=1, quoted_node_names=True)\n",
    "tree.describe()"
   ]
  },
  {
   "cell_type": "code",
   "execution_count": 24,
   "metadata": {},
   "outputs": [
    {
     "name": "stdout",
     "output_type": "stream",
     "text": [
      "1018666\n",
      "s__epidermidis\n",
      "g__Staphylococcus\n",
      "f__Staphylococcaceae\n",
      "p__Firmicutes; c__Bacilli; o__Bacillales\n",
      "k__Bacteria\n"
     ]
    }
   ],
   "source": [
    "# Example of how the taxonomic information is stored\n",
    "\n",
    "node = tree.get_leaves()[0]\n",
    "anc = node.get_ancestors()\n",
    "\n",
    "print(node.name)\n",
    "for node in anc:\n",
    "    if node.name != '':\n",
    "        print(node.name)"
   ]
  },
  {
   "cell_type": "code",
   "execution_count": 25,
   "metadata": {},
   "outputs": [],
   "source": [
    "# Read 16S table, get top N OTUs\n",
    "\n",
    "otus = pd.read_csv(\"data/ibd_16s_otu_table.csv\", dtype={0: str})\n",
    "otus = otus.set_index(otus.columns[0])\n",
    "topN_otus = otus.sum(axis=1).sort_values(ascending=False).head(N_SEQS).index"
   ]
  },
  {
   "cell_type": "code",
   "execution_count": 26,
   "metadata": {},
   "outputs": [
    {
     "name": "stdout",
     "output_type": "stream",
     "text": [
      "30\n"
     ]
    }
   ],
   "source": [
    "# Check overlap between top 10 OTUs and tree\n",
    "\n",
    "otus_set = set(topN_otus)\n",
    "tree_set = set([node.name for node in tree.get_leaves()])\n",
    "\n",
    "print(len(otus_set.intersection(tree_set))) # Should be 10"
   ]
  },
  {
   "cell_type": "code",
   "execution_count": 27,
   "metadata": {},
   "outputs": [
    {
     "name": "stdout",
     "output_type": "stream",
     "text": [
      "Number of leaf nodes:\t30\n",
      "Total number of nodes:\t59\n",
      "Rooted:\tYes\n",
      "Most distant node:\t181155\n",
      "Max. distance:\t0.124740\n"
     ]
    }
   ],
   "source": [
    "# Filter tree to only include top 10 OTUs - branch lengths inferred from tree\n",
    "\n",
    "topN_tree = tree.copy()\n",
    "topN_tree.prune(topN_otus)\n",
    "topN_tree.describe()\n",
    "\n",
    "# Write to fille\n",
    "topN_tree.write(format=1, outfile=f\"output/top{N_SEQS}_tree.nwk\")"
   ]
  },
  {
   "cell_type": "code",
   "execution_count": 28,
   "metadata": {},
   "outputs": [],
   "source": [
    "# Get taxonomy\n",
    "\n",
    "tax = pd.read_csv(\"data/gg_13_5_taxonomy.txt\", sep='\\t', header=None, dtype={0: str})\n",
    "tax.columns = [\"ID\", \"Taxonomy\"]\n",
    "tax = tax.set_index(\"ID\")\n",
    "topN_tax = tax.loc[topN_otus]"
   ]
  },
  {
   "cell_type": "code",
   "execution_count": 29,
   "metadata": {},
   "outputs": [
    {
     "name": "stdout",
     "output_type": "stream",
     "text": [
      "[[  0 555 481 172 595 389 191 549 538 209 196 403 539 408 176 505 243 437\n",
      "  392 426 411 441 430 245 184 109 408 293 479 512]\n",
      " [555   0 424 508 533 491 522 392 394 525 553 454 445 479 529 344 550 530\n",
      "  489 459 478 440 511 545 512 528 446 516 365 473]\n",
      " [481 424   0 476 294 178 477 271 314 470 480 365 378 481 467 378 481 440\n",
      "  200 329 264 287 402 483 472 474 436 455 355 400]\n",
      " [172 508 476   0 607 415 119 516 495 173 151 386 498 360 145 504 255 437\n",
      "  408 381 412 432 437 222 101 139 424 316 479 502]\n",
      " [595 533 294 607   0 349 609 368 409 599 576 539 439 534 587 455 611 569\n",
      "  348 513 435 454 563 609 605 588 571 586 477 422]\n",
      " [389 491 178 415 349   0 418 363 388 389 415 279 443 535 385 442 391 342\n",
      "   60 273 139 286 313 387 415 383 333 362 411 434]\n",
      " [191 522 477 119 609 418   0 504 498 201 108 382 518 379 172 515 256 447\n",
      "  417 376 411 440 442 265  58 153 431 305 491 503]\n",
      " [549 392 271 516 368 363 504   0 150 516 535 303 327 435 522 377 544 509\n",
      "  372 310 376 297 444 531 494 532 485 485 413 445]\n",
      " [538 394 314 495 409 388 498 150   0 497 537 244 310 422 492 387 534 509\n",
      "  387 255 392 249 455 527 495 513 488 475 414 427]\n",
      " [209 525 470 173 599 389 201 516 497   0 219 400 529 332 213 482 287 433\n",
      "  383 400 393 413 418 126 183 192 406 309 462 510]\n",
      " [196 553 480 151 576 415 108 535 537 219   0 423 528 420 174 518 250 440\n",
      "  407 419 426 440 442 258 108 156 424 304 481 487]\n",
      " [403 454 365 386 539 279 382 303 244 400 423   0 431 520 379 475 392 388\n",
      "  279 160 263 201 338 407 386 391 360 358 441 443]\n",
      " [539 445 378 498 439 443 518 327 310 529 528 431   0 445 507 420 543 532\n",
      "  448 432 437 409 477 535 510 529 520 519 439 240]\n",
      " [408 479 481 360 534 535 379 435 422 332 420 520 445   0 389 451 461 578\n",
      "  537 523 510 516 558 362 372 411 548 456 472 542]\n",
      " [176 529 467 145 587 385 172 522 492 213 174 379 507 389   0 499 236 420\n",
      "  379 390 396 409 403 200 156 146 407 279 475 493]\n",
      " [505 344 378 504 455 442 515 377 387 482 518 475 420 451 499   0 503 493\n",
      "  437 463 473 410 482 504 505 491 262 480 120 457]\n",
      " [243 550 481 255 611 391 256 544 534 287 250 392 543 461 236 503   0 425\n",
      "  385 425 415 428 434 288 249 233 401 280 483 512]\n",
      " [437 530 440 437 569 342 447 509 509 433 440 388 532 578 420 493 425   0\n",
      "  343 379 357 410 379 431 451 416 394 410 468 489]\n",
      " [392 489 200 408 348  60 417 372 387 383 407 279 448 537 379 437 385 343\n",
      "    0 274 149 287 314 389 408 372 334 356 411 435]\n",
      " [426 459 329 381 513 273 376 310 255 400 419 160 432 523 390 463 425 379\n",
      "  274   0 276 212 314 432 372 398 381 377 435 435]\n",
      " [411 478 264 412 435 139 411 376 392 393 426 263 437 510 396 473 415 357\n",
      "  149 276   0 321 350 405 407 400 379 395 453 459]\n",
      " [441 440 287 432 454 286 440 297 249 413 440 201 409 516 409 410 428 410\n",
      "  287 212 321   0 367 428 439 427 389 380 374 394]\n",
      " [430 511 402 437 563 313 442 444 455 418 442 338 477 558 403 482 434 379\n",
      "  314 314 350 367   0 414 435 401 383 390 455 466]\n",
      " [245 545 483 222 609 387 265 531 527 126 258 407 535 362 200 504 288 431\n",
      "  389 432 405 428 414   0 242 233 416 300 487 528]\n",
      " [184 512 472 101 605 415  58 494 495 183 108 386 510 372 156 505 249 451\n",
      "  408 372 407 439 435 242   0 152 430 306 483 498]\n",
      " [109 528 474 139 588 383 153 532 513 192 156 391 529 411 146 491 233 416\n",
      "  372 398 400 427 401 233 152   0 402 262 470 500]\n",
      " [408 446 436 424 571 333 431 485 488 406 424 360 520 548 407 262 401 394\n",
      "  334 381 379 389 383 416 430 402   0 373 242 477]\n",
      " [293 516 455 316 586 362 305 485 475 309 304 358 519 456 279 480 280 410\n",
      "  356 377 395 380 390 300 306 262 373   0 456 482]\n",
      " [479 365 355 479 477 411 491 413 414 462 481 441 439 472 475 120 483 468\n",
      "  411 435 453 374 455 487 483 470 242 456   0 416]\n",
      " [512 473 400 502 422 434 503 445 427 510 487 443 240 542 493 457 512 489\n",
      "  435 435 459 394 466 528 498 500 477 482 416   0]]\n"
     ]
    }
   ],
   "source": [
    "# Get 16S sequences and pairwise distances for top 10 OTUs as well\n",
    "\n",
    "# First, index the greengenes fasta file\n",
    "gg = SeqIO.index(\"data/gg_13_5.fasta\", \"fasta\")\n",
    "\n",
    "# Get sequences for top 10 OTUs\n",
    "topN_seqs = [gg[otu] for otu in topN_otus]\n",
    "\n",
    "# Add taxonomy to sequences\n",
    "for i, seq in enumerate(topN_seqs):\n",
    "    seq.description = topN_tax.loc[topN_otus[i], \"Taxonomy\"]\n",
    "\n",
    "# Save sequences to fasta\n",
    "SeqIO.write(topN_seqs, f\"output/top{N_SEQS}_seqs.fasta\", \"fasta\")\n",
    "\n",
    "# Get distances\n",
    "topN_dists = np.zeros((N_SEQS, N_SEQS), dtype=int)\n",
    "for i in range(N_SEQS):\n",
    "    for j in range(i + 1, N_SEQS):\n",
    "        topN_dists[i, j] = topN_dists[j, i] = Levenshtein.distance(\n",
    "            str(topN_seqs[i].seq), str(topN_seqs[j].seq)\n",
    "        )\n",
    "\n",
    "print(topN_dists)\n",
    "\n",
    "# # Save pairwise distances to csv\n",
    "# pd.DataFrame(topN_dists, index=topN_otus, columns=topN_otus).to_csv(\n",
    "#     f\"output/top{N_SEQS}_dists.csv\"\n",
    "# )\n",
    "\n",
    "# Pairwise distances for top N + taxonomy\n",
    "df = pd.DataFrame(topN_dists, index=topN_otus, columns=topN_otus)\n",
    "df = df.merge(topN_tax, left_index=True, right_index=True)\n",
    "\n",
    "df.to_csv(f\"output/top{N_SEQS}_dists_tax.csv\")"
   ]
  },
  {
   "cell_type": "code",
   "execution_count": null,
   "metadata": {},
   "outputs": [],
   "source": []
  }
 ],
 "metadata": {
  "kernelspec": {
   "display_name": "Python 3",
   "language": "python",
   "name": "python3"
  },
  "language_info": {
   "codemirror_mode": {
    "name": "ipython",
    "version": 3
   },
   "file_extension": ".py",
   "mimetype": "text/x-python",
   "name": "python",
   "nbconvert_exporter": "python",
   "pygments_lexer": "ipython3",
   "version": "3.10.6 (main, Nov 14 2022, 16:10:14) [GCC 11.3.0]"
  },
  "orig_nbformat": 4,
  "vscode": {
   "interpreter": {
    "hash": "31f2aee4e71d21fbe5cf8b01ff0e069b9275f58929596ceb00d14d90e3e16cd6"
   }
  }
 },
 "nbformat": 4,
 "nbformat_minor": 2
}
